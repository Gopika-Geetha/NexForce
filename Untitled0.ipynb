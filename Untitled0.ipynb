{
  "nbformat": 4,
  "nbformat_minor": 0,
  "metadata": {
    "colab": {
      "provenance": [],
      "mount_file_id": "1kYdW-4wp-QHJ8bhVT26blmUK3Fh6Piu4",
      "authorship_tag": "ABX9TyMg9GdTsGCs2It+uabsk0e1",
      "include_colab_link": true
    },
    "kernelspec": {
      "name": "python3",
      "display_name": "Python 3"
    },
    "language_info": {
      "name": "python"
    }
  },
  "cells": [
    {
      "cell_type": "markdown",
      "metadata": {
        "id": "view-in-github",
        "colab_type": "text"
      },
      "source": [
        "<a href=\"https://colab.research.google.com/github/Gopika-Geetha/NexForce/blob/main/Untitled0.ipynb\" target=\"_parent\"><img src=\"https://colab.research.google.com/assets/colab-badge.svg\" alt=\"Open In Colab\"/></a>"
      ]
    },
    {
      "cell_type": "code",
      "source": [
        "import pandas as pd\n",
        "from statistics import mean, median, mode\n",
        "path=\"/content/drive/MyDrive/Dataset-kaggle/Dataset-kaggle-heightweight.csv\"\n",
        "abc=pd.read_csv(path)\n",
        "abc_height=abc['Height(Inches)']\n",
        "abc_weight=abc['Weight(Pounds)']\n",
        "\n",
        "#to find mean\n",
        "height_mean=mean(abc_height)\n",
        "weight_mean=mean(abc_weight)\n",
        "\n",
        "#to find median\n",
        "height_median=median(abc_height)\n",
        "weight_median=median(abc_weight)\n",
        "\n",
        "#to find mode\n",
        "height_mode=mode(abc_height)\n",
        "weight_mode=mode(abc_weight)\n",
        "\n",
        "#print mean, median, mode of height\n",
        "print(\"Mean height=\",height_mean)\n",
        "print(\"Median height=\",height_median)\n",
        "print(\"Mode height=\",height_mode)\n",
        "\n",
        "#print mean, median, mode of weight\n",
        "print(\"Mean weight=\",weight_mean)\n",
        "print(\"Median weight=\",weight_median)\n",
        "print(\"Mode weight=\",weight_mode)"
      ],
      "metadata": {
        "id": "lGOa8GEN96D5"
      },
      "execution_count": null,
      "outputs": []
    }
  ]
}